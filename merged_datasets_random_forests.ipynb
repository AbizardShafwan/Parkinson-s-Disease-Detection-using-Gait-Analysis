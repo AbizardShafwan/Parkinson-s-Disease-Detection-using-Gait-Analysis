{
 "cells": [
  {
   "cell_type": "code",
   "execution_count": 1,
   "metadata": {
    "collapsed": true
   },
   "outputs": [],
   "source": [
    "import pandas as pd\n",
    "import numpy as np\n",
    "\n",
    "from sklearn.model_selection import train_test_split\n",
    "from sklearn.svm import SVC\n",
    "\n",
    "from sklearn.ensemble import RandomForestClassifier"
   ]
  },
  {
   "cell_type": "code",
   "execution_count": 2,
   "metadata": {
    "collapsed": true
   },
   "outputs": [],
   "source": [
    "df1 = pd.read_csv('Transformed Data/Transformed_Co', index_col = 0)\n",
    "df2 = pd.read_csv('Transformed Data/Transformed_Pt' , index_col = 0)"
   ]
  },
  {
   "cell_type": "code",
   "execution_count": 3,
   "metadata": {},
   "outputs": [
    {
     "data": {
      "text/plain": [
       "(214, 133, 92, 133)"
      ]
     },
     "execution_count": 3,
     "metadata": {},
     "output_type": "execute_result"
    }
   ],
   "source": [
    "df1_len = df1.shape[0]\n",
    "df2_len = df2.shape[0]\n",
    "df2.shape + df1.shape"
   ]
  },
  {
   "cell_type": "code",
   "execution_count": 4,
   "metadata": {
    "collapsed": true,
    "scrolled": true
   },
   "outputs": [],
   "source": [
    "X = pd.concat([df1, df2])"
   ]
  },
  {
   "cell_type": "code",
   "execution_count": 5,
   "metadata": {},
   "outputs": [
    {
     "data": {
      "text/plain": [
       "(92,)"
      ]
     },
     "execution_count": 5,
     "metadata": {},
     "output_type": "execute_result"
    }
   ],
   "source": [
    "y1 = pd.Series([0]*df1_len)\n",
    "y1.shape"
   ]
  },
  {
   "cell_type": "code",
   "execution_count": 6,
   "metadata": {},
   "outputs": [
    {
     "data": {
      "text/plain": [
       "(214,)"
      ]
     },
     "execution_count": 6,
     "metadata": {},
     "output_type": "execute_result"
    }
   ],
   "source": [
    "y2 = pd.Series([1]*df2_len, index = range(df1_len-1,(df1_len + df2_len)-1))\n",
    "y2.shape"
   ]
  },
  {
   "cell_type": "code",
   "execution_count": 7,
   "metadata": {},
   "outputs": [
    {
     "data": {
      "text/plain": [
       "(306,)"
      ]
     },
     "execution_count": 7,
     "metadata": {},
     "output_type": "execute_result"
    }
   ],
   "source": [
    "y = pd.concat([y1,y2]) \n",
    "y.shape"
   ]
  },
  {
   "cell_type": "code",
   "execution_count": 8,
   "metadata": {
    "scrolled": true
   },
   "outputs": [
    {
     "data": {
      "text/plain": [
       "300    1\n",
       "301    1\n",
       "302    1\n",
       "303    1\n",
       "304    1\n",
       "dtype: int64"
      ]
     },
     "execution_count": 8,
     "metadata": {},
     "output_type": "execute_result"
    }
   ],
   "source": [
    "y.tail()"
   ]
  },
  {
   "cell_type": "code",
   "execution_count": 9,
   "metadata": {},
   "outputs": [
    {
     "name": "stdout",
     "output_type": "stream",
     "text": [
      "(229, 133)\n",
      "(77, 133)\n",
      "(229, 1)\n",
      "(77, 1)\n"
     ]
    }
   ],
   "source": [
    "X_train, X_test, y_train1, y_test1 = train_test_split(X, y)\n",
    "y_train = pd.DataFrame(y_train1)\n",
    "y_test = pd.DataFrame(y_test1)\n",
    "\n",
    "\n",
    "print(X_train.shape)\n",
    "print(X_test.shape)\n",
    "print(y_train.shape)\n",
    "print(y_test.shape)"
   ]
  },
  {
   "cell_type": "code",
   "execution_count": 15,
   "metadata": {
    "scrolled": false
   },
   "outputs": [
    {
     "name": "stdout",
     "output_type": "stream",
     "text": [
      "Value of max-features: 1\n",
      "Accuracy of RF classifier on training set: 0.9956331877729258\n",
      "Accuracy of RF classifier on test set: 0.8571428571428571\n",
      "\n",
      "Value of max-features: 2\n",
      "Accuracy of RF classifier on training set: 0.9956331877729258\n",
      "Accuracy of RF classifier on test set: 0.8701298701298701\n",
      "\n",
      "Value of max-features: 3\n",
      "Accuracy of RF classifier on training set: 0.9956331877729258\n",
      "Accuracy of RF classifier on test set: 0.8441558441558441\n",
      "\n",
      "Value of max-features: 4\n",
      "Accuracy of RF classifier on training set: 0.9956331877729258\n",
      "Accuracy of RF classifier on test set: 0.8831168831168831\n",
      "\n",
      "Value of max-features: 5\n",
      "Accuracy of RF classifier on training set: 0.9956331877729258\n",
      "Accuracy of RF classifier on test set: 0.8701298701298701\n",
      "\n",
      "Value of max-features: 6\n",
      "Accuracy of RF classifier on training set: 0.9912663755458515\n",
      "Accuracy of RF classifier on test set: 0.8441558441558441\n",
      "\n",
      "Value of max-features: 7\n",
      "Accuracy of RF classifier on training set: 0.9912663755458515\n",
      "Accuracy of RF classifier on test set: 0.8571428571428571\n",
      "\n",
      "Value of max-features: 8\n",
      "Accuracy of RF classifier on training set: 0.9956331877729258\n",
      "Accuracy of RF classifier on test set: 0.8701298701298701\n",
      "\n",
      "Value of max-features: 9\n",
      "Accuracy of RF classifier on training set: 0.9912663755458515\n",
      "Accuracy of RF classifier on test set: 0.8701298701298701\n",
      "\n",
      "Value of max-features: 10\n",
      "Accuracy of RF classifier on training set: 0.9956331877729258\n",
      "Accuracy of RF classifier on test set: 0.8571428571428571\n",
      "\n",
      "Value of max-features: 11\n",
      "Accuracy of RF classifier on training set: 0.9956331877729258\n",
      "Accuracy of RF classifier on test set: 0.9090909090909091\n",
      "\n",
      "Value of max-features: 12\n",
      "Accuracy of RF classifier on training set: 0.9912663755458515\n",
      "Accuracy of RF classifier on test set: 0.8311688311688312\n",
      "\n",
      "Value of max-features: 13\n",
      "Accuracy of RF classifier on training set: 0.9868995633187773\n",
      "Accuracy of RF classifier on test set: 0.8961038961038961\n",
      "\n",
      "Value of max-features: 14\n",
      "Accuracy of RF classifier on training set: 0.9956331877729258\n",
      "Accuracy of RF classifier on test set: 0.8701298701298701\n",
      "\n",
      "Value of max-features: 15\n",
      "Accuracy of RF classifier on training set: 1.0\n",
      "Accuracy of RF classifier on test set: 0.8701298701298701\n",
      "\n",
      "Value of max-features: 16\n",
      "Accuracy of RF classifier on training set: 1.0\n",
      "Accuracy of RF classifier on test set: 0.8701298701298701\n",
      "\n",
      "Value of max-features: 17\n",
      "Accuracy of RF classifier on training set: 1.0\n",
      "Accuracy of RF classifier on test set: 0.8831168831168831\n",
      "\n",
      "Value of max-features: 18\n",
      "Accuracy of RF classifier on training set: 0.9912663755458515\n",
      "Accuracy of RF classifier on test set: 0.8831168831168831\n",
      "\n",
      "Value of max-features: 19\n",
      "Accuracy of RF classifier on training set: 0.9956331877729258\n",
      "Accuracy of RF classifier on test set: 0.8831168831168831\n",
      "\n"
     ]
    }
   ],
   "source": [
    "for x in range(1, 20):\n",
    "    clf = RandomForestClassifier(max_features = x, random_state = 0)\n",
    "    clf.fit(X_train, np.ravel(y_train))\n",
    "\n",
    "    print(\"Value of max-features: {}\".format(x))\n",
    "    print('Accuracy of RF classifier on training set: {}'\n",
    "         .format(clf.score(X_train, y_train)))\n",
    "    print('Accuracy of RF classifier on test set: {}'\n",
    "         .format(clf.score(X_test, y_test)))\n",
    "    print()"
   ]
  },
  {
   "cell_type": "code",
   "execution_count": 11,
   "metadata": {},
   "outputs": [
    {
     "name": "stdout",
     "output_type": "stream",
     "text": [
      "Value of max-features: 4\n",
      "Accuracy of RF classifier on training set: 1.00\n",
      "Accuracy of RF classifier on test set: 0.88\n"
     ]
    }
   ],
   "source": [
    "clf = RandomForestClassifier(max_features = 4, random_state = 0)\n",
    "clf.fit(X_train, np.ravel(y_train))\n",
    "\n",
    "print(\"Value of max-features: {}\".format(4))\n",
    "print('Accuracy of RF classifier on training set: {:.2f}'\n",
    "     .format(clf.score(X_train, y_train)))\n",
    "print('Accuracy of RF classifier on test set: {:.2f}'\n",
    "     .format(clf.score(X_test, y_test)))\n"
   ]
  },
  {
   "cell_type": "code",
   "execution_count": 12,
   "metadata": {},
   "outputs": [
    {
     "data": {
      "text/plain": [
       "(133,)"
      ]
     },
     "execution_count": 12,
     "metadata": {},
     "output_type": "execute_result"
    }
   ],
   "source": [
    "clf.feature_importances_.shape"
   ]
  },
  {
   "cell_type": "code",
   "execution_count": 13,
   "metadata": {},
   "outputs": [
    {
     "data": {
      "text/plain": [
       "array([ 0.        ,  0.00372951,  0.0017153 ,  0.00539447,  0.        ,\n",
       "        0.        ,  0.        ,  0.        ,  0.02426561,  0.01781354,\n",
       "        0.00509722,  0.01288336,  0.        ,  0.00466972,  0.        ,\n",
       "        0.00406714,  0.0035886 ,  0.00222073,  0.        ,  0.        ,\n",
       "        0.00809077,  0.        ,  0.00454207,  0.0056943 ,  0.00768364,\n",
       "        0.00533249,  0.0039894 ,  0.0024886 ,  0.        ,  0.00064576,\n",
       "        0.00561696,  0.03633616,  0.01163909,  0.00507939,  0.00683641,\n",
       "        0.        ,  0.00266202,  0.02008176,  0.01035447,  0.00608246,\n",
       "        0.01248942,  0.01655764,  0.        ,  0.00275513,  0.00463132,\n",
       "        0.00179012,  0.00152791,  0.01414163,  0.11042471,  0.        ,\n",
       "        0.0027505 ,  0.00428488,  0.00575186,  0.        ,  0.0165046 ,\n",
       "        0.        ,  0.        ,  0.00943448,  0.00381403,  0.01522575,\n",
       "        0.00183014,  0.        ,  0.01219429,  0.        ,  0.03919138,\n",
       "        0.00309944,  0.00128166,  0.01245411,  0.00090318,  0.00290416,\n",
       "        0.        ,  0.00392892,  0.00089653,  0.00600701,  0.00398621,\n",
       "        0.01305179,  0.00803316,  0.        ,  0.00160095,  0.01276657,\n",
       "        0.01070042,  0.00703257,  0.01763564,  0.00548994,  0.        ,\n",
       "        0.00411664,  0.00187092,  0.01081081,  0.01561438,  0.01391075,\n",
       "        0.00178957,  0.        ,  0.        ,  0.01003017,  0.01587815,\n",
       "        0.00227942,  0.02544178,  0.00494233,  0.        ,  0.00314182,\n",
       "        0.        ,  0.01527718,  0.00310952,  0.00826635,  0.01611626,\n",
       "        0.        ,  0.00584998,  0.00099826,  0.00843425,  0.01041487,\n",
       "        0.02849521,  0.01473131,  0.        ,  0.02114538,  0.01297221,\n",
       "        0.00288484,  0.00463363,  0.02433283,  0.01205807,  0.        ,\n",
       "        0.02124314,  0.        ,  0.00321987,  0.0176311 ,  0.01199187,\n",
       "        0.00102875,  0.        ,  0.0025192 ,  0.        ,  0.00098391,\n",
       "        0.00934804,  0.01420859,  0.00260562])"
      ]
     },
     "execution_count": 13,
     "metadata": {},
     "output_type": "execute_result"
    }
   ],
   "source": [
    "clf.feature_importances_"
   ]
  },
  {
   "cell_type": "code",
   "execution_count": 14,
   "metadata": {},
   "outputs": [
    {
     "data": {
      "text/plain": [
       "48"
      ]
     },
     "execution_count": 14,
     "metadata": {},
     "output_type": "execute_result"
    }
   ],
   "source": [
    "clf.feature_importances_.argmax()"
   ]
  },
  {
   "cell_type": "code",
   "execution_count": null,
   "metadata": {
    "collapsed": true
   },
   "outputs": [],
   "source": []
  },
  {
   "cell_type": "code",
   "execution_count": null,
   "metadata": {
    "collapsed": true
   },
   "outputs": [],
   "source": []
  }
 ],
 "metadata": {
  "kernelspec": {
   "display_name": "Python 3",
   "language": "python",
   "name": "python3"
  },
  "language_info": {
   "codemirror_mode": {
    "name": "ipython",
    "version": 3
   },
   "file_extension": ".py",
   "mimetype": "text/x-python",
   "name": "python",
   "nbconvert_exporter": "python",
   "pygments_lexer": "ipython3",
   "version": "3.6.1"
  }
 },
 "nbformat": 4,
 "nbformat_minor": 2
}
