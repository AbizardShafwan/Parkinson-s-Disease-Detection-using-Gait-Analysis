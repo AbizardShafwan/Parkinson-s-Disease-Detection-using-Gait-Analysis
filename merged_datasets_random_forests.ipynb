{
 "cells": [
  {
   "cell_type": "code",
   "execution_count": 11,
   "metadata": {
    "collapsed": true
   },
   "outputs": [],
   "source": [
    "import pandas as pd\n",
    "import numpy as np\n",
    "\n",
    "from sklearn.model_selection import train_test_split\n",
    "from sklearn.svm import SVC\n",
    "\n",
    "from sklearn.ensemble import RandomForestClassifier"
   ]
  },
  {
   "cell_type": "code",
   "execution_count": 12,
   "metadata": {
    "collapsed": true
   },
   "outputs": [],
   "source": [
    "df1 = pd.read_csv('Transformed Data/Transformed_Co', index_col = 0)\n",
    "df2 = pd.read_csv('Transformed Data/Transformed_Pt' , index_col = 0)"
   ]
  },
  {
   "cell_type": "code",
   "execution_count": 13,
   "metadata": {},
   "outputs": [
    {
     "data": {
      "text/plain": [
       "(214, 133, 92, 133)"
      ]
     },
     "execution_count": 13,
     "metadata": {},
     "output_type": "execute_result"
    }
   ],
   "source": [
    "df1_len = df1.shape[0]\n",
    "df2_len = df2.shape[0]\n",
    "df2.shape + df1.shape"
   ]
  },
  {
   "cell_type": "code",
   "execution_count": 14,
   "metadata": {
    "collapsed": true,
    "scrolled": true
   },
   "outputs": [],
   "source": [
    "X = pd.concat([df1, df2])"
   ]
  },
  {
   "cell_type": "code",
   "execution_count": 15,
   "metadata": {},
   "outputs": [
    {
     "data": {
      "text/plain": [
       "(92,)"
      ]
     },
     "execution_count": 15,
     "metadata": {},
     "output_type": "execute_result"
    }
   ],
   "source": [
    "y1 = pd.Series([0]*df1_len)\n",
    "y1.shape"
   ]
  },
  {
   "cell_type": "code",
   "execution_count": 16,
   "metadata": {},
   "outputs": [
    {
     "data": {
      "text/plain": [
       "(214,)"
      ]
     },
     "execution_count": 16,
     "metadata": {},
     "output_type": "execute_result"
    }
   ],
   "source": [
    "y2 = pd.Series([1]*df2_len, index = range(df1_len-1,(df1_len + df2_len)-1))\n",
    "y2.shape"
   ]
  },
  {
   "cell_type": "code",
   "execution_count": 17,
   "metadata": {},
   "outputs": [
    {
     "data": {
      "text/plain": [
       "(306,)"
      ]
     },
     "execution_count": 17,
     "metadata": {},
     "output_type": "execute_result"
    }
   ],
   "source": [
    "y = pd.concat([y1,y2]) \n",
    "y.shape"
   ]
  },
  {
   "cell_type": "code",
   "execution_count": 18,
   "metadata": {
    "scrolled": true
   },
   "outputs": [
    {
     "data": {
      "text/plain": [
       "300    1\n",
       "301    1\n",
       "302    1\n",
       "303    1\n",
       "304    1\n",
       "dtype: int64"
      ]
     },
     "execution_count": 18,
     "metadata": {},
     "output_type": "execute_result"
    }
   ],
   "source": [
    "y.tail()"
   ]
  },
  {
   "cell_type": "code",
   "execution_count": 55,
   "metadata": {},
   "outputs": [
    {
     "name": "stdout",
     "output_type": "stream",
     "text": [
      "(229, 133)\n",
      "(77, 133)\n",
      "(229, 1)\n",
      "(77, 1)\n"
     ]
    }
   ],
   "source": [
    "X_train, X_test, y_train1, y_test1 = train_test_split(X, y)\n",
    "y_train = pd.DataFrame(y_train1)\n",
    "y_test = pd.DataFrame(y_test1)\n",
    "\n",
    "\n",
    "print(X_train.shape)\n",
    "print(X_test.shape)\n",
    "print(y_train.shape)\n",
    "print(y_test.shape)"
   ]
  },
  {
   "cell_type": "code",
   "execution_count": 56,
   "metadata": {
    "scrolled": true
   },
   "outputs": [
    {
     "name": "stdout",
     "output_type": "stream",
     "text": [
      "Value of max-features: 1\n",
      "Accuracy of RF classifier on training set: 1.00\n",
      "Accuracy of RF classifier on test set: 0.81\n",
      "\n",
      "Value of max-features: 2\n",
      "Accuracy of RF classifier on training set: 1.00\n",
      "Accuracy of RF classifier on test set: 0.84\n",
      "\n",
      "Value of max-features: 3\n",
      "Accuracy of RF classifier on training set: 1.00\n",
      "Accuracy of RF classifier on test set: 0.84\n",
      "\n",
      "Value of max-features: 4\n",
      "Accuracy of RF classifier on training set: 1.00\n",
      "Accuracy of RF classifier on test set: 0.83\n",
      "\n",
      "Value of max-features: 5\n",
      "Accuracy of RF classifier on training set: 1.00\n",
      "Accuracy of RF classifier on test set: 0.81\n",
      "\n",
      "Value of max-features: 6\n",
      "Accuracy of RF classifier on training set: 1.00\n",
      "Accuracy of RF classifier on test set: 0.78\n",
      "\n",
      "Value of max-features: 7\n",
      "Accuracy of RF classifier on training set: 1.00\n",
      "Accuracy of RF classifier on test set: 0.82\n",
      "\n",
      "Value of max-features: 8\n",
      "Accuracy of RF classifier on training set: 1.00\n",
      "Accuracy of RF classifier on test set: 0.79\n",
      "\n",
      "Value of max-features: 9\n",
      "Accuracy of RF classifier on training set: 1.00\n",
      "Accuracy of RF classifier on test set: 0.88\n",
      "\n",
      "Value of max-features: 10\n",
      "Accuracy of RF classifier on training set: 1.00\n",
      "Accuracy of RF classifier on test set: 0.82\n",
      "\n",
      "Value of max-features: 11\n",
      "Accuracy of RF classifier on training set: 1.00\n",
      "Accuracy of RF classifier on test set: 0.79\n",
      "\n",
      "Value of max-features: 12\n",
      "Accuracy of RF classifier on training set: 1.00\n",
      "Accuracy of RF classifier on test set: 0.84\n",
      "\n",
      "Value of max-features: 13\n",
      "Accuracy of RF classifier on training set: 1.00\n",
      "Accuracy of RF classifier on test set: 0.84\n",
      "\n",
      "Value of max-features: 14\n",
      "Accuracy of RF classifier on training set: 1.00\n",
      "Accuracy of RF classifier on test set: 0.82\n",
      "\n",
      "Value of max-features: 15\n",
      "Accuracy of RF classifier on training set: 1.00\n",
      "Accuracy of RF classifier on test set: 0.79\n",
      "\n",
      "Value of max-features: 16\n",
      "Accuracy of RF classifier on training set: 1.00\n",
      "Accuracy of RF classifier on test set: 0.83\n",
      "\n",
      "Value of max-features: 17\n",
      "Accuracy of RF classifier on training set: 1.00\n",
      "Accuracy of RF classifier on test set: 0.83\n",
      "\n",
      "Value of max-features: 18\n",
      "Accuracy of RF classifier on training set: 1.00\n",
      "Accuracy of RF classifier on test set: 0.81\n",
      "\n",
      "Value of max-features: 19\n",
      "Accuracy of RF classifier on training set: 0.99\n",
      "Accuracy of RF classifier on test set: 0.82\n",
      "\n"
     ]
    }
   ],
   "source": [
    "for x in range(1, 20):\n",
    "    clf = RandomForestClassifier(max_features = x, random_state = 0)\n",
    "    clf.fit(X_train, np.ravel(y_train))\n",
    "\n",
    "    print(\"Value of max-features: {}\".format(x))\n",
    "    print('Accuracy of RF classifier on training set: {:.2f}'\n",
    "         .format(clf.score(X_train, y_train)))\n",
    "    print('Accuracy of RF classifier on test set: {:.2f}'\n",
    "         .format(clf.score(X_test, y_test)))\n",
    "    print()"
   ]
  },
  {
   "cell_type": "code",
   "execution_count": 57,
   "metadata": {},
   "outputs": [
    {
     "name": "stdout",
     "output_type": "stream",
     "text": [
      "Value of max-features: 4\n",
      "Accuracy of RF classifier on training set: 1.00\n",
      "Accuracy of RF classifier on test set: 0.83\n"
     ]
    }
   ],
   "source": [
    "clf = RandomForestClassifier(max_features = 4, random_state = 0)\n",
    "clf.fit(X_train, np.ravel(y_train))\n",
    "\n",
    "print(\"Value of max-features: {}\".format(4))\n",
    "print('Accuracy of RF classifier on training set: {:.2f}'\n",
    "     .format(clf.score(X_train, y_train)))\n",
    "print('Accuracy of RF classifier on test set: {:.2f}'\n",
    "     .format(clf.score(X_test, y_test)))\n"
   ]
  },
  {
   "cell_type": "code",
   "execution_count": 58,
   "metadata": {},
   "outputs": [
    {
     "data": {
      "text/plain": [
       "(133,)"
      ]
     },
     "execution_count": 58,
     "metadata": {},
     "output_type": "execute_result"
    }
   ],
   "source": [
    "clf.feature_importances_.shape"
   ]
  },
  {
   "cell_type": "code",
   "execution_count": 62,
   "metadata": {},
   "outputs": [
    {
     "data": {
      "text/plain": [
       "array([  0.00000000e+00,   0.00000000e+00,   5.09881482e-03,\n",
       "         1.47756601e-03,   5.34780172e-03,   0.00000000e+00,\n",
       "         0.00000000e+00,   0.00000000e+00,   9.95585642e-03,\n",
       "         2.20603539e-02,   1.87313751e-03,   3.38213380e-02,\n",
       "         2.63821186e-03,   1.92345871e-03,   0.00000000e+00,\n",
       "         4.47873665e-03,   3.32423887e-03,   5.16541353e-03,\n",
       "         9.04837919e-05,   3.76062294e-03,   3.73681750e-03,\n",
       "         0.00000000e+00,   3.21512681e-03,   6.53960017e-03,\n",
       "         1.80095159e-03,   1.12098283e-02,   1.84874368e-02,\n",
       "         3.29974337e-03,   0.00000000e+00,   5.12145610e-04,\n",
       "         2.97643167e-03,   1.86910549e-02,   2.36326109e-03,\n",
       "         3.66160041e-02,   5.06136073e-03,   0.00000000e+00,\n",
       "         6.96530550e-03,   3.94880153e-03,   4.22808859e-03,\n",
       "         1.43233750e-02,   1.30089448e-02,   1.73550587e-03,\n",
       "         0.00000000e+00,   9.54152808e-03,   1.89555052e-03,\n",
       "         7.78758957e-03,   9.98256321e-04,   1.72321121e-03,\n",
       "         4.87064580e-02,   0.00000000e+00,   9.11731745e-04,\n",
       "         1.24769037e-02,   1.08779029e-02,   0.00000000e+00,\n",
       "         2.48510265e-02,   0.00000000e+00,   0.00000000e+00,\n",
       "         1.02068105e-03,   5.34654821e-03,   1.06805795e-02,\n",
       "         1.08765097e-02,   8.33797387e-03,   5.41052868e-03,\n",
       "         0.00000000e+00,   2.71016733e-02,   1.34656743e-02,\n",
       "         9.17262554e-03,   6.50157838e-03,   0.00000000e+00,\n",
       "         6.33285473e-03,   0.00000000e+00,   1.45223558e-02,\n",
       "         1.22829087e-02,   1.12707160e-02,   8.18780455e-03,\n",
       "         1.59898779e-02,   4.04468616e-03,   0.00000000e+00,\n",
       "         9.04899895e-04,   4.91003381e-03,   7.58377880e-03,\n",
       "         4.75216314e-03,   1.38386560e-02,   4.32316335e-03,\n",
       "         0.00000000e+00,   1.10882003e-02,   0.00000000e+00,\n",
       "         3.26645271e-02,   1.37065045e-02,   1.73642705e-03,\n",
       "         0.00000000e+00,   0.00000000e+00,   0.00000000e+00,\n",
       "         1.79303193e-02,   1.15488877e-02,   6.05704037e-03,\n",
       "         4.28439838e-03,   3.96536797e-03,   0.00000000e+00,\n",
       "         7.18453212e-03,   6.50811160e-03,   1.93321994e-02,\n",
       "         3.43840294e-03,   1.30819917e-02,   3.48586733e-02,\n",
       "         0.00000000e+00,   9.65197495e-04,   2.76420330e-02,\n",
       "         1.08872645e-02,   2.24419303e-02,   2.40409990e-02,\n",
       "         2.98689944e-03,   0.00000000e+00,   7.17244669e-03,\n",
       "         3.47372533e-03,   1.75447804e-02,   1.33181594e-02,\n",
       "         1.09043435e-02,   1.50948940e-02,   0.00000000e+00,\n",
       "         5.40802794e-03,   0.00000000e+00,   2.98349739e-03,\n",
       "         5.41692472e-04,   2.80657099e-03,   1.78745658e-03,\n",
       "         0.00000000e+00,   1.59052102e-02,   1.98331890e-02,\n",
       "         1.96938424e-03,   4.83642367e-03,   8.15676066e-03,\n",
       "         5.54928129e-03])"
      ]
     },
     "execution_count": 62,
     "metadata": {},
     "output_type": "execute_result"
    }
   ],
   "source": [
    "clf.feature_importances_"
   ]
  },
  {
   "cell_type": "code",
   "execution_count": 63,
   "metadata": {},
   "outputs": [
    {
     "data": {
      "text/plain": [
       "48"
      ]
     },
     "execution_count": 63,
     "metadata": {},
     "output_type": "execute_result"
    }
   ],
   "source": [
    "clf.feature_importances_.argmax()"
   ]
  },
  {
   "cell_type": "code",
   "execution_count": null,
   "metadata": {
    "collapsed": true
   },
   "outputs": [],
   "source": []
  },
  {
   "cell_type": "code",
   "execution_count": null,
   "metadata": {
    "collapsed": true
   },
   "outputs": [],
   "source": []
  }
 ],
 "metadata": {
  "kernelspec": {
   "display_name": "Python 3",
   "language": "python",
   "name": "python3"
  },
  "language_info": {
   "codemirror_mode": {
    "name": "ipython",
    "version": 3
   },
   "file_extension": ".py",
   "mimetype": "text/x-python",
   "name": "python",
   "nbconvert_exporter": "python",
   "pygments_lexer": "ipython3",
   "version": "3.6.1"
  }
 },
 "nbformat": 4,
 "nbformat_minor": 2
}
