{
 "cells": [
  {
   "cell_type": "code",
   "execution_count": 1,
   "metadata": {
    "collapsed": true
   },
   "outputs": [],
   "source": [
    "import pandas as pd\n",
    "import numpy as np\n",
    "# from sklearn.preprocessing import PolynomialFeatures\n",
    "from sklearn import decomposition\n",
    "import os\n",
    "import scipy.stats as sc\n",
    "from sklearn.model_selection import train_test_split\n",
    "from sklearn.preprocessing import MinMaxScaler\n",
    "from sklearn.svm import SVC\n"
   ]
  },
  {
   "cell_type": "code",
   "execution_count": 2,
   "metadata": {
    "collapsed": true
   },
   "outputs": [],
   "source": [
    "df_co = pd.read_csv('Transformed Data/Transformed_Co', index_col = 0)\n",
    "df_pt = pd.read_csv('Transformed Data/Transformed_Pt' , index_col = 0)"
   ]
  },
  {
   "cell_type": "code",
   "execution_count": 3,
   "metadata": {
    "collapsed": true
   },
   "outputs": [],
   "source": [
    "df_co_len = df_co.shape[0]\n",
    "df_pt_len = df_pt.shape[0]"
   ]
  },
  {
   "cell_type": "code",
   "execution_count": 4,
   "metadata": {
    "collapsed": true
   },
   "outputs": [],
   "source": [
    "df_co_pca = pd.DataFrame(df_co)\n",
    "df_pt_pca = pd.DataFrame(df_pt)"
   ]
  },
  {
   "cell_type": "code",
   "execution_count": 5,
   "metadata": {},
   "outputs": [
    {
     "data": {
      "text/plain": [
       "(92,)"
      ]
     },
     "execution_count": 5,
     "metadata": {},
     "output_type": "execute_result"
    }
   ],
   "source": [
    "y1 = pd.Series([0]*df_co_len)\n",
    "y1.shape"
   ]
  },
  {
   "cell_type": "code",
   "execution_count": 6,
   "metadata": {},
   "outputs": [
    {
     "data": {
      "text/plain": [
       "(214,)"
      ]
     },
     "execution_count": 6,
     "metadata": {},
     "output_type": "execute_result"
    }
   ],
   "source": [
    "y2 = pd.Series([1]*df_pt_len, index = range(df_co_len-1,(df_co_len + df_pt_len)-1))\n",
    "y2.shape"
   ]
  },
  {
   "cell_type": "code",
   "execution_count": 7,
   "metadata": {},
   "outputs": [
    {
     "data": {
      "text/plain": [
       "(306,)"
      ]
     },
     "execution_count": 7,
     "metadata": {},
     "output_type": "execute_result"
    }
   ],
   "source": [
    "y = pd.concat([y1,y2]) \n",
    "y.shape"
   ]
  },
  {
   "cell_type": "code",
   "execution_count": 8,
   "metadata": {
    "collapsed": true
   },
   "outputs": [],
   "source": [
    "X = pd.concat([df_co_pca, df_pt_pca])"
   ]
  },
  {
   "cell_type": "code",
   "execution_count": null,
   "metadata": {
    "scrolled": false
   },
   "outputs": [
    {
     "name": "stdout",
     "output_type": "stream",
     "text": [
      "0 out of 500 done\n",
      "1 out of 500 done\n",
      "2 out of 500 done\n",
      "3 out of 500 done\n",
      "4 out of 500 done\n",
      "5 out of 500 done\n",
      "6 out of 500 done\n",
      "7 out of 500 done\n",
      "8 out of 500 done\n",
      "9 out of 500 done\n",
      "10 out of 500 done\n",
      "11 out of 500 done\n",
      "12 out of 500 done\n",
      "13 out of 500 done\n",
      "14 out of 500 done\n",
      "15 out of 500 done\n",
      "16 out of 500 done\n",
      "17 out of 500 done\n",
      "18 out of 500 done\n",
      "19 out of 500 done\n",
      "20 out of 500 done\n",
      "21 out of 500 done\n",
      "22 out of 500 done\n",
      "23 out of 500 done\n",
      "24 out of 500 done\n",
      "25 out of 500 done\n",
      "26 out of 500 done\n",
      "27 out of 500 done\n",
      "28 out of 500 done\n",
      "29 out of 500 done\n",
      "30 out of 500 done\n",
      "31 out of 500 done\n",
      "32 out of 500 done\n",
      "33 out of 500 done\n",
      "34 out of 500 done\n",
      "35 out of 500 done\n",
      "36 out of 500 done\n",
      "37 out of 500 done\n",
      "38 out of 500 done\n",
      "39 out of 500 done\n",
      "40 out of 500 done\n",
      "41 out of 500 done\n",
      "42 out of 500 done\n",
      "43 out of 500 done\n",
      "44 out of 500 done\n",
      "45 out of 500 done\n",
      "46 out of 500 done\n",
      "47 out of 500 done\n",
      "48 out of 500 done\n",
      "49 out of 500 done\n",
      "50 out of 500 done\n",
      "51 out of 500 done\n",
      "52 out of 500 done\n",
      "53 out of 500 done\n",
      "54 out of 500 done\n",
      "55 out of 500 done\n",
      "56 out of 500 done\n",
      "57 out of 500 done\n"
     ]
    }
   ],
   "source": [
    "c_val = 0\n",
    "score_val = 0\n",
    "min_range = 0\n",
    "max_range = 500\n",
    "state = 0\n",
    "\n",
    "for rand_state in range(min_range, max_range):\n",
    "    X_train, X_test, y_train1, y_test1 = train_test_split(X, y, random_state = rand_state)\n",
    "    y_train = pd.DataFrame(y_train1)\n",
    "    y_test = pd.DataFrame(y_test1)\n",
    "\n",
    "    scaler = MinMaxScaler().fit(X_train)\n",
    "    X_train = scaler.transform(X_train)\n",
    "    X_test = scaler.transform(X_test)\n",
    "    \n",
    "    \n",
    "    for x in [1, 5, 10, 20, 100, 200, 400]:\n",
    "        clf = SVC(kernel = 'sigmoid', C = x).fit(X_train, np.ravel(y_train))\n",
    "        score = clf.score(X_test, np.ravel(y_test))\n",
    "\n",
    "        if score > score_val:\n",
    "            c_val = x\n",
    "            score_val = score\n",
    "            state = rand_state\n",
    "\n",
    "    print('{} out of {} done'.format(rand_state - min_range, max_range - min_range))\n",
    "print(\"C = {}, Score = {}, Random State = {}\".format(c_val, score_val, state))\n"
   ]
  },
  {
   "cell_type": "code",
   "execution_count": 19,
   "metadata": {
    "collapsed": true
   },
   "outputs": [],
   "source": [
    "scaler = MinMaxScaler().fit(X_train)\n",
    "X_train = scaler.transform(X_train)\n",
    "X_test = scaler.transform(X_test)\n"
   ]
  },
  {
   "cell_type": "code",
   "execution_count": 27,
   "metadata": {},
   "outputs": [
    {
     "name": "stdout",
     "output_type": "stream",
     "text": [
      " C = 0.10, accuracy = 0.7012987012987013\n",
      " C = 1.00, accuracy = 0.7012987012987013\n",
      " C = 15.00, accuracy = 0.8831168831168831\n",
      " C = 250.00, accuracy = 0.8961038961038961\n",
      " C = 500.00, accuracy = 0.8961038961038961\n",
      " C = 2000.00, accuracy = 0.8701298701298701\n"
     ]
    }
   ],
   "source": [
    "\n",
    "    \n",
    "for this_C in ([0.1, 1, 15, 250, 500, 2000]):\n",
    "\n",
    "    clf = SVC(kernel = 'sigmoid', C = this_C).fit(X_train, np.ravel(y_train))\n",
    "    print(' C = {:.2f}, accuracy = {}'.format( this_C, clf.score(X_test, np.ravel(y_test))))\n",
    " "
   ]
  },
  {
   "cell_type": "code",
   "execution_count": 28,
   "metadata": {},
   "outputs": [
    {
     "name": "stdout",
     "output_type": "stream",
     "text": [
      " C = 250.00, accuracy = 0.8961038961038961\n"
     ]
    }
   ],
   "source": [
    "C = 250\n",
    "\n",
    "clf = SVC(kernel = 'sigmoid', C = C).fit(X_train, np.ravel(y_train))\n",
    "print(' C = {:.2f}, accuracy = {}'.format( C, clf.score(X_test, np.ravel(y_test))))\n",
    " "
   ]
  },
  {
   "cell_type": "code",
   "execution_count": null,
   "metadata": {
    "collapsed": true
   },
   "outputs": [],
   "source": []
  }
 ],
 "metadata": {
  "kernelspec": {
   "display_name": "Python 3",
   "language": "python",
   "name": "python3"
  },
  "language_info": {
   "codemirror_mode": {
    "name": "ipython",
    "version": 3
   },
   "file_extension": ".py",
   "mimetype": "text/x-python",
   "name": "python",
   "nbconvert_exporter": "python",
   "pygments_lexer": "ipython3",
   "version": "3.6.1"
  }
 },
 "nbformat": 4,
 "nbformat_minor": 2
}
