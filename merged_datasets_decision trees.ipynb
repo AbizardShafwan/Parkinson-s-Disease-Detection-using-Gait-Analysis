{
 "cells": [
  {
   "cell_type": "code",
   "execution_count": 25,
   "metadata": {
    "collapsed": true
   },
   "outputs": [],
   "source": [
    "import pandas as pd\n",
    "import numpy as np\n",
    "\n",
    "from sklearn.tree import DecisionTreeClassifier\n",
    "from sklearn.model_selection import train_test_split\n",
    "from sklearn.svm import SVC\n",
    "import matplotlib.pyplot as plt\n",
    "from sklearn.ensemble import RandomForestClassifier"
   ]
  },
  {
   "cell_type": "code",
   "execution_count": 26,
   "metadata": {
    "collapsed": true
   },
   "outputs": [],
   "source": [
    "df1 = pd.read_csv('Transformed Data/Transformed_Co', index_col = 0)\n",
    "df2 = pd.read_csv('Transformed Data/Transformed_Pt' , index_col = 0)"
   ]
  },
  {
   "cell_type": "code",
   "execution_count": 27,
   "metadata": {},
   "outputs": [
    {
     "data": {
      "text/plain": [
       "(214, 133, 92, 133)"
      ]
     },
     "execution_count": 27,
     "metadata": {},
     "output_type": "execute_result"
    }
   ],
   "source": [
    "df1_len = df1.shape[0]\n",
    "df2_len = df2.shape[0]\n",
    "df2.shape + df1.shape"
   ]
  },
  {
   "cell_type": "code",
   "execution_count": 28,
   "metadata": {
    "collapsed": true,
    "scrolled": true
   },
   "outputs": [],
   "source": [
    "X = pd.concat([df1, df2])"
   ]
  },
  {
   "cell_type": "code",
   "execution_count": 29,
   "metadata": {},
   "outputs": [
    {
     "data": {
      "text/plain": [
       "(92,)"
      ]
     },
     "execution_count": 29,
     "metadata": {},
     "output_type": "execute_result"
    }
   ],
   "source": [
    "y1 = pd.Series([0]*df1_len)\n",
    "y1.shape"
   ]
  },
  {
   "cell_type": "code",
   "execution_count": 30,
   "metadata": {},
   "outputs": [
    {
     "data": {
      "text/plain": [
       "(214,)"
      ]
     },
     "execution_count": 30,
     "metadata": {},
     "output_type": "execute_result"
    }
   ],
   "source": [
    "y2 = pd.Series([1]*df2_len, index = range(df1_len-1,(df1_len + df2_len)-1))\n",
    "y2.shape"
   ]
  },
  {
   "cell_type": "code",
   "execution_count": 31,
   "metadata": {},
   "outputs": [
    {
     "data": {
      "text/plain": [
       "(306,)"
      ]
     },
     "execution_count": 31,
     "metadata": {},
     "output_type": "execute_result"
    }
   ],
   "source": [
    "y = pd.concat([y1,y2]) \n",
    "y.shape"
   ]
  },
  {
   "cell_type": "code",
   "execution_count": 32,
   "metadata": {
    "scrolled": true
   },
   "outputs": [
    {
     "data": {
      "text/plain": [
       "300    1\n",
       "301    1\n",
       "302    1\n",
       "303    1\n",
       "304    1\n",
       "dtype: int64"
      ]
     },
     "execution_count": 32,
     "metadata": {},
     "output_type": "execute_result"
    }
   ],
   "source": [
    "y.tail()"
   ]
  },
  {
   "cell_type": "code",
   "execution_count": 33,
   "metadata": {},
   "outputs": [
    {
     "name": "stdout",
     "output_type": "stream",
     "text": [
      "(229, 133)\n",
      "(77, 133)\n",
      "(229, 1)\n",
      "(77, 1)\n"
     ]
    }
   ],
   "source": [
    "X_train, X_test, y_train1, y_test1 = train_test_split(X, y)\n",
    "y_train = pd.DataFrame(y_train1)\n",
    "y_test = pd.DataFrame(y_test1)\n",
    "\n",
    "\n",
    "print(X_train.shape)\n",
    "print(X_test.shape)\n",
    "print(y_train.shape)\n",
    "print(y_test.shape)"
   ]
  },
  {
   "cell_type": "code",
   "execution_count": 34,
   "metadata": {},
   "outputs": [
    {
     "name": "stdout",
     "output_type": "stream",
     "text": [
      "Accuracy of Decision Tree classifier on training set: 0.96\n",
      "Accuracy of Decision Tree classifier on test set: 0.79\n"
     ]
    }
   ],
   "source": [
    "clf = DecisionTreeClassifier(max_depth =4).fit(X_train, y_train)\n",
    "\n",
    "print('Accuracy of Decision Tree classifier on training set: {:.2f}'\n",
    "     .format(clf.score(X_train, y_train)))\n",
    "print('Accuracy of Decision Tree classifier on test set: {:.2f}'\n",
    "     .format(clf.score(X_test, y_test)))"
   ]
  },
  {
   "cell_type": "code",
   "execution_count": 35,
   "metadata": {
    "scrolled": true
   },
   "outputs": [
    {
     "name": "stdout",
     "output_type": "stream",
     "text": [
      "0.398953638058\n"
     ]
    },
    {
     "data": {
      "text/plain": [
       "40"
      ]
     },
     "execution_count": 35,
     "metadata": {},
     "output_type": "execute_result"
    }
   ],
   "source": [
    "\n",
    "fi = clf.feature_importances_\n",
    "print(np.max(fi))\n",
    "np.argmax(fi)"
   ]
  },
  {
   "cell_type": "code",
   "execution_count": 36,
   "metadata": {
    "scrolled": false
   },
   "outputs": [
    {
     "name": "stdout",
     "output_type": "stream",
     "text": [
      "[\n",
      "'Time(sec)Min',\n",
      "'Time(sec)Max',\n",
      "'Time(sec)Std',\n",
      "'Time(sec)Med',\n",
      "'Time(sec)Avg',\n",
      "'Time(sec)Skewness',\n",
      "'Time(sec)Kurtosis',\n",
      "'VGRF_left_s1Min',\n",
      "'VGRF_left_s1Max',\n",
      "'VGRF_left_s1Std',\n",
      "'VGRF_left_s1Med',\n",
      "'VGRF_left_s1Avg',\n",
      "'VGRF_left_s1Skewness',\n",
      "'VGRF_left_s1Kurtosis',\n",
      "'VGRF_left_s2Min',\n",
      "'VGRF_left_s2Max',\n",
      "'VGRF_left_s2Std',\n",
      "'VGRF_left_s2Med',\n",
      "'VGRF_left_s2Avg',\n",
      "'VGRF_left_s2Skewness',\n",
      "'VGRF_left_s2Kurtosis',\n",
      "'VGRF_left_s3Min',\n",
      "'VGRF_left_s3Max',\n",
      "'VGRF_left_s3Std',\n",
      "'VGRF_left_s3Med',\n",
      "'VGRF_left_s3Avg',\n",
      "'VGRF_left_s3Skewness',\n",
      "'VGRF_left_s3Kurtosis',\n",
      "'VGRF_left_s4Min',\n",
      "'VGRF_left_s4Max',\n",
      "'VGRF_left_s4Std',\n",
      "'VGRF_left_s4Med',\n",
      "'VGRF_left_s4Avg',\n",
      "'VGRF_left_s4Skewness',\n",
      "'VGRF_left_s4Kurtosis',\n",
      "'VGRF_left_s5Min',\n",
      "'VGRF_left_s5Max',\n",
      "'VGRF_left_s5Std',\n",
      "'VGRF_left_s5Med',\n",
      "'VGRF_left_s5Avg',\n",
      "'VGRF_left_s5Skewness',\n",
      "'VGRF_left_s5Kurtosis',\n",
      "'VGRF_left_s6Min',\n",
      "'VGRF_left_s6Max',\n",
      "'VGRF_left_s6Std',\n",
      "'VGRF_left_s6Med',\n",
      "'VGRF_left_s6Avg',\n",
      "'VGRF_left_s6Skewness',\n",
      "'VGRF_left_s6Kurtosis',\n",
      "'VGRF_left_s7Min',\n",
      "'VGRF_left_s7Max',\n",
      "'VGRF_left_s7Std',\n",
      "'VGRF_left_s7Med',\n",
      "'VGRF_left_s7Avg',\n",
      "'VGRF_left_s7Skewness',\n",
      "'VGRF_left_s7Kurtosis',\n",
      "'VGRF_left_s8Min',\n",
      "'VGRF_left_s8Max',\n",
      "'VGRF_left_s8Std',\n",
      "'VGRF_left_s8Med',\n",
      "'VGRF_left_s8Avg',\n",
      "'VGRF_left_s8Skewness',\n",
      "'VGRF_left_s8Kurtosis',\n",
      "'VGRF_right_s1Min',\n",
      "'VGRF_right_s1Max',\n",
      "'VGRF_right_s1Std',\n",
      "'VGRF_right_s1Med',\n",
      "'VGRF_right_s1Avg',\n",
      "'VGRF_right_s1Skewness',\n",
      "'VGRF_right_s1Kurtosis',\n",
      "'VGRF_right_s2Min',\n",
      "'VGRF_right_s2Max',\n",
      "'VGRF_right_s2Std',\n",
      "'VGRF_right_s2Med',\n",
      "'VGRF_right_s2Avg',\n",
      "'VGRF_right_s2Skewness',\n",
      "'VGRF_right_s2Kurtosis',\n",
      "'VGRF_right_s3Min',\n",
      "'VGRF_right_s3Max',\n",
      "'VGRF_right_s3Std',\n",
      "'VGRF_right_s3Med',\n",
      "'VGRF_right_s3Avg',\n",
      "'VGRF_right_s3Skewness',\n",
      "'VGRF_right_s3Kurtosis',\n",
      "'VGRF_right_s4Min',\n",
      "'VGRF_right_s4Max',\n",
      "'VGRF_right_s4Std',\n",
      "'VGRF_right_s4Med',\n",
      "'VGRF_right_s4Avg',\n",
      "'VGRF_right_s4Skewness',\n",
      "'VGRF_right_s4Kurtosis',\n",
      "'VGRF_right_s5Min',\n",
      "'VGRF_right_s5Max',\n",
      "'VGRF_right_s5Std',\n",
      "'VGRF_right_s5Med',\n",
      "'VGRF_right_s5Avg',\n",
      "'VGRF_right_s5Skewness',\n",
      "'VGRF_right_s5Kurtosis',\n",
      "'VGRF_right_s6Min',\n",
      "'VGRF_right_s6Max',\n",
      "'VGRF_right_s6Std',\n",
      "'VGRF_right_s6Med',\n",
      "'VGRF_right_s6Avg',\n",
      "'VGRF_right_s6Skewness',\n",
      "'VGRF_right_s6Kurtosis',\n",
      "'VGRF_right_s7Min',\n",
      "'VGRF_right_s7Max',\n",
      "'VGRF_right_s7Std',\n",
      "'VGRF_right_s7Med',\n",
      "'VGRF_right_s7Avg',\n",
      "'VGRF_right_s7Skewness',\n",
      "'VGRF_right_s7Kurtosis',\n",
      "'VGRF_right_s8Min',\n",
      "'VGRF_right_s8Max',\n",
      "'VGRF_right_s8Std',\n",
      "'VGRF_right_s8Med',\n",
      "'VGRF_right_s8Avg',\n",
      "'VGRF_right_s8Skewness',\n",
      "'VGRF_right_s8Kurtosis',\n",
      "'Total_force_leftMin',\n",
      "'Total_force_leftMax',\n",
      "'Total_force_leftStd',\n",
      "'Total_force_leftMed',\n",
      "'Total_force_leftAvg',\n",
      "'Total_force_leftSkewness',\n",
      "'Total_force_leftKurtosis',\n",
      "'Total_force_rightMin',\n",
      "'Total_force_rightMax',\n",
      "'Total_force_rightStd',\n",
      "'Total_force_rightMed',\n",
      "'Total_force_rightAvg',\n",
      "'Total_force_rightSkewness',\n",
      "'Total_force_rightKurtosis'\n",
      "]\n"
     ]
    }
   ],
   "source": [
    "print('[')\n",
    "for zx in X.columns:\n",
    "    \n",
    "    \n",
    "    if zx == 'Total_force_rightKurtosis':\n",
    "        print(\"'{}'\".format(zx))\n",
    "    else:\n",
    "        print(\"'{}',\".format(zx))\n",
    "print(']')"
   ]
  },
  {
   "cell_type": "code",
   "execution_count": 37,
   "metadata": {
    "collapsed": true
   },
   "outputs": [],
   "source": [
    "def plot_feature_importances(clf, feature_names):\n",
    "    c_features = len(feature_names)\n",
    "    plt.barh(range(c_features), clf.feature_importances_)\n",
    "    plt.xlabel(\"Feature importance\")\n",
    "    plt.ylabel(\"Feature name\")\n",
    "    plt.yticks(np.arange(c_features), feature_names)\n",
    "\n",
    "    \n",
    "    "
   ]
  },
  {
   "cell_type": "code",
   "execution_count": 38,
   "metadata": {
    "collapsed": true
   },
   "outputs": [],
   "source": [
    "zx = [\n",
    "'Time(sec)Min',\n",
    "'Time(sec)Max',\n",
    "'Time(sec)Std',\n",
    "'Time(sec)Med',\n",
    "'Time(sec)Avg',\n",
    "'Time(sec)Skewness',\n",
    "'Time(sec)Kurtosis',\n",
    "'VGRF_left_s1Min',\n",
    "'VGRF_left_s1Max',\n",
    "'VGRF_left_s1Std',\n",
    "'VGRF_left_s1Med',\n",
    "'VGRF_left_s1Avg',\n",
    "'VGRF_left_s1Skewness',\n",
    "'VGRF_left_s1Kurtosis',\n",
    "'VGRF_left_s2Min',\n",
    "'VGRF_left_s2Max',\n",
    "'VGRF_left_s2Std',\n",
    "'VGRF_left_s2Med',\n",
    "'VGRF_left_s2Avg',\n",
    "'VGRF_left_s2Skewness',\n",
    "'VGRF_left_s2Kurtosis',\n",
    "'VGRF_left_s3Min',\n",
    "'VGRF_left_s3Max',\n",
    "'VGRF_left_s3Std',\n",
    "'VGRF_left_s3Med',\n",
    "'VGRF_left_s3Avg',\n",
    "'VGRF_left_s3Skewness',\n",
    "'VGRF_left_s3Kurtosis',\n",
    "'VGRF_left_s4Min',\n",
    "'VGRF_left_s4Max',\n",
    "'VGRF_left_s4Std',\n",
    "'VGRF_left_s4Med',\n",
    "'VGRF_left_s4Avg',\n",
    "'VGRF_left_s4Skewness',\n",
    "'VGRF_left_s4Kurtosis',\n",
    "'VGRF_left_s5Min',\n",
    "'VGRF_left_s5Max',\n",
    "'VGRF_left_s5Std',\n",
    "'VGRF_left_s5Med',\n",
    "'VGRF_left_s5Avg',\n",
    "'VGRF_left_s5Skewness',\n",
    "'VGRF_left_s5Kurtosis',\n",
    "'VGRF_left_s6Min',\n",
    "'VGRF_left_s6Max',\n",
    "'VGRF_left_s6Std',\n",
    "'VGRF_left_s6Med',\n",
    "'VGRF_left_s6Avg',\n",
    "'VGRF_left_s6Skewness',\n",
    "'VGRF_left_s6Kurtosis',\n",
    "'VGRF_left_s7Min',\n",
    "'VGRF_left_s7Max',\n",
    "'VGRF_left_s7Std',\n",
    "'VGRF_left_s7Med',\n",
    "'VGRF_left_s7Avg',\n",
    "'VGRF_left_s7Skewness',\n",
    "'VGRF_left_s7Kurtosis',\n",
    "'VGRF_left_s8Min',\n",
    "'VGRF_left_s8Max',\n",
    "'VGRF_left_s8Std',\n",
    "'VGRF_left_s8Med',\n",
    "'VGRF_left_s8Avg',\n",
    "'VGRF_left_s8Skewness',\n",
    "'VGRF_left_s8Kurtosis',\n",
    "'VGRF_right_s1Min',\n",
    "'VGRF_right_s1Max',\n",
    "'VGRF_right_s1Std',\n",
    "'VGRF_right_s1Med',\n",
    "'VGRF_right_s1Avg',\n",
    "'VGRF_right_s1Skewness',\n",
    "'VGRF_right_s1Kurtosis',\n",
    "'VGRF_right_s2Min',\n",
    "'VGRF_right_s2Max',\n",
    "'VGRF_right_s2Std',\n",
    "'VGRF_right_s2Med',\n",
    "'VGRF_right_s2Avg',\n",
    "'VGRF_right_s2Skewness',\n",
    "'VGRF_right_s2Kurtosis',\n",
    "'VGRF_right_s3Min',\n",
    "'VGRF_right_s3Max',\n",
    "'VGRF_right_s3Std',\n",
    "'VGRF_right_s3Med',\n",
    "'VGRF_right_s3Avg',\n",
    "'VGRF_right_s3Skewness',\n",
    "'VGRF_right_s3Kurtosis',\n",
    "'VGRF_right_s4Min',\n",
    "'VGRF_right_s4Max',\n",
    "'VGRF_right_s4Std',\n",
    "'VGRF_right_s4Med',\n",
    "'VGRF_right_s4Avg',\n",
    "'VGRF_right_s4Skewness',\n",
    "'VGRF_right_s4Kurtosis',\n",
    "'VGRF_right_s5Min',\n",
    "'VGRF_right_s5Max',\n",
    "'VGRF_right_s5Std',\n",
    "'VGRF_right_s5Med',\n",
    "'VGRF_right_s5Avg',\n",
    "'VGRF_right_s5Skewness',\n",
    "'VGRF_right_s5Kurtosis',\n",
    "'VGRF_right_s6Min',\n",
    "'VGRF_right_s6Max',\n",
    "'VGRF_right_s6Std',\n",
    "'VGRF_right_s6Med',\n",
    "'VGRF_right_s6Avg',\n",
    "'VGRF_right_s6Skewness',\n",
    "'VGRF_right_s6Kurtosis',\n",
    "'VGRF_right_s7Min',\n",
    "'VGRF_right_s7Max',\n",
    "'VGRF_right_s7Std',\n",
    "'VGRF_right_s7Med',\n",
    "'VGRF_right_s7Avg',\n",
    "'VGRF_right_s7Skewness',\n",
    "'VGRF_right_s7Kurtosis',\n",
    "'VGRF_right_s8Min',\n",
    "'VGRF_right_s8Max',\n",
    "'VGRF_right_s8Std',\n",
    "'VGRF_right_s8Med',\n",
    "'VGRF_right_s8Avg',\n",
    "'VGRF_right_s8Skewness',\n",
    "'VGRF_right_s8Kurtosis',\n",
    "'Total_force_leftMin',\n",
    "'Total_force_leftMax',\n",
    "'Total_force_leftStd',\n",
    "'Total_force_leftMed',\n",
    "'Total_force_leftAvg',\n",
    "'Total_force_leftSkewness',\n",
    "'Total_force_leftKurtosis',\n",
    "'Total_force_rightMin',\n",
    "'Total_force_rightMax',\n",
    "'Total_force_rightStd',\n",
    "'Total_force_rightMed',\n",
    "'Total_force_rightAvg',\n",
    "'Total_force_rightSkewness',\n",
    "'Total_force_rightKurtosis'\n",
    "]"
   ]
  },
  {
   "cell_type": "code",
   "execution_count": 39,
   "metadata": {},
   "outputs": [
    {
     "data": {
      "image/png": "[encoded data removed]",
      "text/plain": [
       "<matplotlib.figure.Figure at 0x29e2e0874a8>"
      ]
     },
     "metadata": {},
     "output_type": "display_data"
    },
    {
     "name": "stdout",
     "output_type": "stream",
     "text": [
      "Feature importances: [ 0.          0.          0.          0.          0.          0.          0.\n",
      "  0.          0.          0.          0.          0.          0.          0.\n",
      "  0.          0.          0.          0.          0.          0.          0.\n",
      "  0.          0.          0.          0.          0.          0.          0.\n",
      "  0.          0.          0.          0.02418935  0.          0.          0.\n",
      "  0.          0.          0.          0.          0.          0.39895364\n",
      "  0.          0.          0.          0.          0.          0.\n",
      "  0.16842812  0.          0.          0.09063267  0.          0.          0.\n",
      "  0.          0.          0.          0.          0.          0.          0.\n",
      "  0.          0.          0.          0.08954066  0.          0.          0.\n",
      "  0.0224764   0.          0.          0.          0.          0.\n",
      "  0.05319468  0.          0.          0.          0.          0.          0.\n",
      "  0.          0.          0.          0.          0.          0.          0.\n",
      "  0.          0.          0.          0.          0.          0.          0.\n",
      "  0.          0.          0.          0.          0.          0.          0.\n",
      "  0.          0.          0.          0.          0.          0.\n",
      "  0.08170735  0.          0.          0.          0.          0.          0.\n",
      "  0.          0.          0.          0.          0.          0.07087714\n",
      "  0.          0.          0.          0.          0.          0.          0.\n",
      "  0.          0.          0.          0.          0.        ]\n"
     ]
    }
   ],
   "source": [
    "\n",
    "\n",
    "\n",
    "plt.figure(figsize=(10,4), dpi=80)\n",
    "plot_feature_importances(clf, zx)\n",
    "plt.show()\n",
    "\n",
    "print('Feature importances: {}'.format(clf.feature_importances_))"
   ]
  },
  {
   "cell_type": "code",
   "execution_count": 48,
   "metadata": {},
   "outputs": [
    {
     "data": {
      "text/plain": [
       "0.39895363805796408"
      ]
     },
     "execution_count": 48,
     "metadata": {},
     "output_type": "execute_result"
    }
   ],
   "source": [
    "clf.feature_importances_[40]"
   ]
  },
  {
   "cell_type": "code",
   "execution_count": 50,
   "metadata": {},
   "outputs": [
    {
     "data": {
      "text/plain": [
       "'VGRF_left_s5Skewness'"
      ]
     },
     "execution_count": 50,
     "metadata": {},
     "output_type": "execute_result"
    }
   ],
   "source": [
    "zx[40]"
   ]
  },
  {
   "cell_type": "code",
   "execution_count": null,
   "metadata": {
    "collapsed": true
   },
   "outputs": [],
   "source": []
  }
 ],
 "metadata": {
  "kernelspec": {
   "display_name": "Python 3",
   "language": "python",
   "name": "python3"
  },
  "language_info": {
   "codemirror_mode": {
    "name": "ipython",
    "version": 3
   },
   "file_extension": ".py",
   "mimetype": "text/x-python",
   "name": "python",
   "nbconvert_exporter": "python",
   "pygments_lexer": "ipython3",
   "version": "3.6.1"
  }
 },
 "nbformat": 4,
 "nbformat_minor": 2
}
