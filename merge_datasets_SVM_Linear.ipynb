{
 "cells": [
  {
   "cell_type": "code",
   "execution_count": 2,
   "metadata": {
    "collapsed": true
   },
   "outputs": [],
   "source": [
    "import pandas as pd\n",
    "import numpy as np\n",
    "# from sklearn.preprocessing import PolynomialFeatures\n",
    "from sklearn import decomposition\n",
    "import os\n",
    "import scipy.stats as sc\n",
    "from sklearn.model_selection import train_test_split\n",
    "from sklearn.preprocessing import MinMaxScaler\n",
    "from sklearn.svm import SVC\n"
   ]
  },
  {
   "cell_type": "code",
   "execution_count": 3,
   "metadata": {
    "collapsed": true
   },
   "outputs": [],
   "source": [
    "df_co = pd.read_csv('Transformed Data/Transformed_Co', index_col = 0)\n",
    "df_pt = pd.read_csv('Transformed Data/Transformed_Pt' , index_col = 0)"
   ]
  },
  {
   "cell_type": "code",
   "execution_count": 4,
   "metadata": {
    "collapsed": true
   },
   "outputs": [],
   "source": [
    "df_co_len = df_co.shape[0]\n",
    "df_pt_len = df_pt.shape[0]"
   ]
  },
  {
   "cell_type": "code",
   "execution_count": 5,
   "metadata": {
    "collapsed": true
   },
   "outputs": [],
   "source": [
    "df_co_pca = pd.DataFrame(df_co)\n",
    "df_pt_pca = pd.DataFrame(df_pt)"
   ]
  },
  {
   "cell_type": "code",
   "execution_count": 6,
   "metadata": {},
   "outputs": [
    {
     "data": {
      "text/plain": [
       "(92,)"
      ]
     },
     "execution_count": 6,
     "metadata": {},
     "output_type": "execute_result"
    }
   ],
   "source": [
    "y1 = pd.Series([0]*df_co_len)\n",
    "y1.shape"
   ]
  },
  {
   "cell_type": "code",
   "execution_count": 7,
   "metadata": {},
   "outputs": [
    {
     "data": {
      "text/plain": [
       "(214,)"
      ]
     },
     "execution_count": 7,
     "metadata": {},
     "output_type": "execute_result"
    }
   ],
   "source": [
    "y2 = pd.Series([1]*df_pt_len, index = range(df_co_len-1,(df_co_len + df_pt_len)-1))\n",
    "y2.shape"
   ]
  },
  {
   "cell_type": "code",
   "execution_count": 8,
   "metadata": {},
   "outputs": [
    {
     "data": {
      "text/plain": [
       "(306,)"
      ]
     },
     "execution_count": 8,
     "metadata": {},
     "output_type": "execute_result"
    }
   ],
   "source": [
    "y = pd.concat([y1,y2]) \n",
    "y.shape"
   ]
  },
  {
   "cell_type": "code",
   "execution_count": 9,
   "metadata": {
    "collapsed": true
   },
   "outputs": [],
   "source": [
    "X = pd.concat([df_co_pca, df_pt_pca])"
   ]
  },
  {
   "cell_type": "code",
   "execution_count": null,
   "metadata": {
    "collapsed": true
   },
   "outputs": [],
   "source": []
  },
  {
   "cell_type": "code",
   "execution_count": 14,
   "metadata": {},
   "outputs": [],
   "source": [
    "\n",
    "max_score = 0\n",
    "best_param = []\n",
    "for i in range(0,50):\n",
    "    X_train, X_test, y_train, y_test = train_test_split(X, y)\n",
    "    clf = SVC(kernel = 'linear', C = 1).fit(X_train, np.ravel(y_train))\n",
    "    from sklearn.model_selection import GridSearchCV\n",
    "\n",
    "    grid_values = {'C': [1, 2, 5, 10, 15, 20, 25, 40, 50, 70, 100, 500, 1000]}\n",
    "\n",
    "    grid_lr = GridSearchCV(clf, param_grid = grid_values, scoring = 'accuracy')\n",
    "    grid_lr.fit(X_train, y_train)\n",
    "    if max_score < grid_lr.best_score_:\n",
    "        max_score = grid_lr.best_score_\n",
    "        best_param = grid_lr.best_params_"
   ]
  },
  {
   "cell_type": "code",
   "execution_count": 15,
   "metadata": {},
   "outputs": [
    {
     "name": "stdout",
     "output_type": "stream",
     "text": [
      "0.842794759825\n",
      "{'C': 1}\n"
     ]
    }
   ],
   "source": [
    "print( max_score)\n",
    "print( best_param)"
   ]
  },
  {
   "cell_type": "code",
   "execution_count": null,
   "metadata": {
    "collapsed": true
   },
   "outputs": [],
   "source": []
  }
 ],
 "metadata": {
  "kernelspec": {
   "display_name": "Python 3",
   "language": "python",
   "name": "python3"
  }
 },
 "nbformat": 4,
 "nbformat_minor": 2
}
