{
 "cells": [
  {
   "cell_type": "code",
   "execution_count": 5,
   "metadata": {
    "collapsed": true
   },
   "outputs": [],
   "source": [
    "import pandas as pd\n",
    "import numpy as np\n",
    "from sklearn.preprocessing import PolynomialFeatures\n",
    "from sklearn import decomposition\n",
    "import os"
   ]
  },
  {
   "cell_type": "code",
   "execution_count": 23,
   "metadata": {
    "scrolled": true
   },
   "outputs": [
    {
     "name": "stdout",
     "output_type": "stream",
     "text": [
      "['GaCo01_01.csv', 'GaCo02_01.csv', 'GaCo02_02.csv', 'GaCo03_01.csv', 'GaCo03_02.csv', 'GaCo04_01.csv', 'GaCo04_02.csv', 'GaCo05_01.csv', 'GaCo05_02.csv', 'GaCo06_01.csv', 'GaCo06_02.csv', 'GaCo07_01.csv', 'GaCo07_02.csv', 'GaCo08_01.csv', 'GaCo08_02.csv', 'GaCo09_01.csv', 'GaCo09_02.csv', 'GaCo10_01.csv', 'GaCo10_02.csv', 'GaCo11_01.csv', 'GaCo12_01.csv', 'GaCo13_01.csv', 'GaCo13_02.csv', 'GaCo13_10.csv', 'GaCo14_01.csv', 'GaCo14_02.csv', 'GaCo14_10.csv', 'GaCo15_01.csv', 'GaCo15_02.csv', 'GaCo15_10.csv', 'GaCo16_01.csv', 'GaCo16_02.csv', 'GaCo16_10.csv', 'GaCo17_01.csv', 'GaCo17_02.csv', 'GaCo17_10.csv', 'GaCo22_01.csv', 'GaCo22_10.csv', 'JuCo01_01.csv', 'JuCo02_01.csv', 'JuCo03_01.csv', 'JuCo04_01.csv', 'JuCo05_01.csv', 'JuCo06_01.csv', 'JuCo07_01.csv', 'JuCo08_01.csv', 'JuCo09_01.csv', 'JuCo11_01.csv', 'JuCo12_01.csv', 'JuCo13_01.csv', 'JuCo14_01.csv', 'JuCo15_01.csv', 'JuCo16_01.csv', 'JuCo17_01.csv', 'JuCo18_01.csv', 'JuCo19_01.csv', 'JuCo20_01.csv', 'JuCo21_01.csv', 'JuCo22_01.csv', 'JuCo23_01.csv', 'JuCo24_01.csv', 'JuCo25_01.csv', 'JuCo26_01.csv', 'SiCo01_01.csv', 'SiCo03_01.csv', 'SiCo04_01.csv', 'SiCo05_01.csv', 'SiCo06_01.csv', 'SiCo07_01.csv', 'SiCo08_01.csv', 'SiCo09_01.csv', 'SiCo10_01.csv', 'SiCo11_01.csv', 'SiCo12_01.csv', 'SiCo13_01.csv', 'SiCo14_01.csv', 'SiCo15_01.csv', 'SiCo16_01.csv', 'SiCo17_01.csv', 'SiCo18_01.csv', 'SiCo19_01.csv', 'SiCo20_01.csv', 'SiCo21_01.csv', 'SiCo22_01.csv', 'SiCo23_01.csv', 'SiCo24_01.csv', 'SiCo25_01.csv', 'SiCo26_01.csv', 'SiCo27_01.csv', 'SiCo28_01.csv', 'SiCo29_01.csv', 'SiCo30_01.csv']\n"
     ]
    }
   ],
   "source": [
    "# Transforming Control Objects' files columns into Polynomial Features and subsequently applying PCA to them\n",
    "\n",
    "count = 0\n",
    "\n",
    "for name in os.listdir('CSV'):\n",
    "    if 'Co' in name:\n",
    "        count += 1\n",
    "\n",
    "i = 0\n",
    "files = []\n",
    "\n",
    "for name in os.listdir('CSV'):\n",
    "    if 'Co' in name:\n",
    "        files.append(name)\n",
    "        # Read the file\n",
    "        # co = pd.read_csv(name)\n",
    "        \n",
    "        \n",
    "print(files)\n",
    "        \n",
    "        \n",
    "    # print('{} of {} files completed', i, count)\n"
   ]
  },
  {
   "cell_type": "code",
   "execution_count": 20,
   "metadata": {
    "collapsed": true
   },
   "outputs": [],
   "source": [
    "### Apply later \n",
    "\n",
    "# Generate Polynomial Features object\n",
    "#        poly = PolynomialFeatures(degree=2)\n",
    "#        co_poly = poly.fit_transform(co)\n",
    "        \n",
    "\n",
    "# Create PCA object and apply PCA to the polynomial features\n",
    "#        pca = decomposition.PCA(n_components=2)\n",
    "#        co_poly_pca = pca.fit_transform(co_poly)"
   ]
  },
  {
   "cell_type": "code",
   "execution_count": null,
   "metadata": {
    "collapsed": true
   },
   "outputs": [],
   "source": []
  }
 ],
 "metadata": {
  "kernelspec": {
   "display_name": "Python 3",
   "language": "python",
   "name": "python3"
  },
  "language_info": {
   "codemirror_mode": {
    "name": "ipython",
    "version": 3
   },
   "file_extension": ".py",
   "mimetype": "text/x-python",
   "name": "python",
   "nbconvert_exporter": "python",
   "pygments_lexer": "ipython3",
   "version": "3.6.1"
  }
 },
 "nbformat": 4,
 "nbformat_minor": 2
}
